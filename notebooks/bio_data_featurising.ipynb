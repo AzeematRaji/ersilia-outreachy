{
 "cells": [
  {
   "cell_type": "markdown",
   "id": "2f60ba5c-79d4-4dfa-a447-04924e23d045",
   "metadata": {},
   "source": [
    "## Using Ersilia to featurise data\n",
    "### functions:\n",
    "- Fetch model from ersilia model hub\n",
    "- serve model\n",
    "- run model, input as the dataset and output as featurised data"
   ]
  },
  {
   "cell_type": "code",
   "execution_count": null,
   "id": "1609183f-b4c4-4451-acb5-ad87889e1a83",
   "metadata": {},
   "outputs": [],
   "source": [
    "ersilia -v fetch eos4wt0"
   ]
  }
 ],
 "metadata": {
  "kernelspec": {
   "display_name": "Python 3 (ipykernel)",
   "language": "python",
   "name": "python3"
  },
  "language_info": {
   "codemirror_mode": {
    "name": "ipython",
    "version": 3
   },
   "file_extension": ".py",
   "mimetype": "text/x-python",
   "name": "python",
   "nbconvert_exporter": "python",
   "pygments_lexer": "ipython3",
   "version": "3.9.21"
  }
 },
 "nbformat": 4,
 "nbformat_minor": 5
}
