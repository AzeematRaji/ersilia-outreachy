{
 "cells": [
  {
   "cell_type": "markdown",
   "id": "dea97d1b-c439-4c70-b09e-10c7a5c60189",
   "metadata": {},
   "source": [
    "# Data Handling Notebook  \n",
    "## Functions:  \n",
    "1. Download dataset  \n",
    "2. Load Dataset into memory\n",
    "3. Save into the data/  \n",
    "4. Explore Features and basic information of dataset  \n"
   ]
  },
  {
   "cell_type": "code",
   "execution_count": 1,
   "id": "9a687a7e-e237-4399-a3a2-c5e44ffea275",
   "metadata": {},
   "outputs": [
    {
     "name": "stderr",
     "output_type": "stream",
     "text": [
      "Downloading...\n",
      "100%|████████████████████████████████████████████████████████████████████████████████████████████████████████████████████████████████████████████████████| 135k/135k [00:00<00:00, 655kiB/s]\n",
      "Loading...\n",
      "Done!\n"
     ]
    }
   ],
   "source": [
    "# Download dataset\n",
    "from tdc.single_pred import Epitope\n",
    "data = Epitope(name='PDB_Jespersen')\n"
   ]
  },
  {
   "cell_type": "code",
   "execution_count": 2,
   "id": "56996da0-46dd-4e4e-ac6e-7cb2258dafb4",
   "metadata": {},
   "outputs": [],
   "source": [
    "# Load dataset into pandas Dataframe\n",
    "df = data.get_data()\n"
   ]
  },
  {
   "cell_type": "code",
   "execution_count": 4,
   "id": "f0559a4e-8bcc-4c41-b904-63753fb0a8a7",
   "metadata": {},
   "outputs": [],
   "source": [
    "# Save the loaded dataset\n",
    "df.to_csv(\"../data/raw_pdb_jesperson.csv\", index=False)\n"
   ]
  },
  {
   "cell_type": "code",
   "execution_count": 5,
   "id": "08e2dbde-0d32-4c5c-80f8-1d04505759ab",
   "metadata": {},
   "outputs": [],
   "source": [
    "df.to_pickle(\"../data/pdb_jesperson.pkl\")\n"
   ]
  },
  {
   "cell_type": "code",
   "execution_count": 6,
   "id": "ee3aca2b-9c1c-48d2-b750-9f06da3d7c3d",
   "metadata": {},
   "outputs": [
    {
     "data": {
      "text/html": [
       "<div>\n",
       "<style scoped>\n",
       "    .dataframe tbody tr th:only-of-type {\n",
       "        vertical-align: middle;\n",
       "    }\n",
       "\n",
       "    .dataframe tbody tr th {\n",
       "        vertical-align: top;\n",
       "    }\n",
       "\n",
       "    .dataframe thead th {\n",
       "        text-align: right;\n",
       "    }\n",
       "</style>\n",
       "<table border=\"1\" class=\"dataframe\">\n",
       "  <thead>\n",
       "    <tr style=\"text-align: right;\">\n",
       "      <th></th>\n",
       "      <th>Antigen_ID</th>\n",
       "      <th>Antigen</th>\n",
       "      <th>Y</th>\n",
       "    </tr>\n",
       "  </thead>\n",
       "  <tbody>\n",
       "    <tr>\n",
       "      <th>0</th>\n",
       "      <td>Protein 1</td>\n",
       "      <td>KVFGRCELAAAMKRHGLANYRGYSLGNWVCAAKFESNFNTQATNRN...</td>\n",
       "      <td>[18, 21, 22, 23, 26, 101, 102, 115, 116, 117, ...</td>\n",
       "    </tr>\n",
       "    <tr>\n",
       "      <th>1</th>\n",
       "      <td>Protein 2</td>\n",
       "      <td>TNTVAAYNLTWKSTNFKTILEWEPKPVNQVYTVQISTKSGDWKSKC...</td>\n",
       "      <td>[137, 140, 142, 144, 153, 154, 155, 156, 157, ...</td>\n",
       "    </tr>\n",
       "    <tr>\n",
       "      <th>2</th>\n",
       "      <td>Protein 3</td>\n",
       "      <td>QDVLGDLPVIGKPVNGGMNFQPASSPLAHDQQWLDHFVLYIITAVT...</td>\n",
       "      <td>[24, 25, 28, 29, 32, 165, 166, 167, 204, 205, ...</td>\n",
       "    </tr>\n",
       "    <tr>\n",
       "      <th>3</th>\n",
       "      <td>Protein 4</td>\n",
       "      <td>MRGMLPLFEPKGRVLLVDGHHLAYRTFHALKGLTTSRGEPVQAVYG...</td>\n",
       "      <td>[312, 313, 314, 351, 381, 382, 384, 385, 387, ...</td>\n",
       "    </tr>\n",
       "    <tr>\n",
       "      <th>4</th>\n",
       "      <td>Protein 5</td>\n",
       "      <td>VVKFMDVYQRSYCHPIETLVDIFQEYPDEIEYIFKPSCVPLMRCGG...</td>\n",
       "      <td>[2, 3, 4, 5, 6, 7, 8, 9, 10, 11, 12, 13, 15, 3...</td>\n",
       "    </tr>\n",
       "  </tbody>\n",
       "</table>\n",
       "</div>"
      ],
      "text/plain": [
       "  Antigen_ID                                            Antigen  \\\n",
       "0  Protein 1  KVFGRCELAAAMKRHGLANYRGYSLGNWVCAAKFESNFNTQATNRN...   \n",
       "1  Protein 2  TNTVAAYNLTWKSTNFKTILEWEPKPVNQVYTVQISTKSGDWKSKC...   \n",
       "2  Protein 3  QDVLGDLPVIGKPVNGGMNFQPASSPLAHDQQWLDHFVLYIITAVT...   \n",
       "3  Protein 4  MRGMLPLFEPKGRVLLVDGHHLAYRTFHALKGLTTSRGEPVQAVYG...   \n",
       "4  Protein 5  VVKFMDVYQRSYCHPIETLVDIFQEYPDEIEYIFKPSCVPLMRCGG...   \n",
       "\n",
       "                                                   Y  \n",
       "0  [18, 21, 22, 23, 26, 101, 102, 115, 116, 117, ...  \n",
       "1  [137, 140, 142, 144, 153, 154, 155, 156, 157, ...  \n",
       "2  [24, 25, 28, 29, 32, 165, 166, 167, 204, 205, ...  \n",
       "3  [312, 313, 314, 351, 381, 382, 384, 385, 387, ...  \n",
       "4  [2, 3, 4, 5, 6, 7, 8, 9, 10, 11, 12, 13, 15, 3...  "
      ]
     },
     "execution_count": 6,
     "metadata": {},
     "output_type": "execute_result"
    }
   ],
   "source": [
    "# Exploring dataset\n",
    "df.head()"
   ]
  },
  {
   "cell_type": "code",
   "execution_count": 7,
   "id": "e361cdb8-606c-4db5-a7ac-4f65ace7d4d4",
   "metadata": {},
   "outputs": [
    {
     "data": {
      "text/plain": [
       "Index(['Antigen_ID', 'Antigen', 'Y'], dtype='object')"
      ]
     },
     "execution_count": 7,
     "metadata": {},
     "output_type": "execute_result"
    }
   ],
   "source": [
    "df.columns "
   ]
  },
  {
   "cell_type": "code",
   "execution_count": 8,
   "id": "6080b8b1-ae9e-4e48-881d-ee4ecadc334e",
   "metadata": {},
   "outputs": [
    {
     "data": {
      "text/plain": [
       "dtype('O')"
      ]
     },
     "execution_count": 8,
     "metadata": {},
     "output_type": "execute_result"
    }
   ],
   "source": [
    "df['Y'].dtype\n"
   ]
  },
  {
   "cell_type": "code",
   "execution_count": 9,
   "id": "d61b62ae-aefe-415a-acab-88012eb3a70a",
   "metadata": {},
   "outputs": [
    {
     "data": {
      "text/plain": [
       "list"
      ]
     },
     "execution_count": 9,
     "metadata": {},
     "output_type": "execute_result"
    }
   ],
   "source": [
    "type(df['Y'][0])\n"
   ]
  },
  {
   "cell_type": "code",
   "execution_count": 10,
   "id": "432c858e-f830-4f92-9d11-5e230459a1e0",
   "metadata": {},
   "outputs": [
    {
     "data": {
      "text/plain": [
       "(447, 3)"
      ]
     },
     "execution_count": 10,
     "metadata": {},
     "output_type": "execute_result"
    }
   ],
   "source": [
    "df.shape"
   ]
  },
  {
   "cell_type": "code",
   "execution_count": 11,
   "id": "5946292d-ca97-4560-bd97-c27568b9905a",
   "metadata": {},
   "outputs": [
    {
     "name": "stdout",
     "output_type": "stream",
     "text": [
      "<class 'pandas.core.frame.DataFrame'>\n",
      "RangeIndex: 447 entries, 0 to 446\n",
      "Data columns (total 3 columns):\n",
      " #   Column      Non-Null Count  Dtype \n",
      "---  ------      --------------  ----- \n",
      " 0   Antigen_ID  447 non-null    object\n",
      " 1   Antigen     447 non-null    object\n",
      " 2   Y           447 non-null    object\n",
      "dtypes: object(3)\n",
      "memory usage: 10.6+ KB\n"
     ]
    }
   ],
   "source": [
    "df.info()\n"
   ]
  },
  {
   "cell_type": "code",
   "execution_count": 12,
   "id": "009ff1d5-70eb-4f4a-a759-796f4ff50943",
   "metadata": {},
   "outputs": [],
   "source": [
    "split = data.get_split()"
   ]
  },
  {
   "cell_type": "code",
   "execution_count": 13,
   "id": "9f217662-b470-46fe-a3d7-a06b29f63399",
   "metadata": {},
   "outputs": [
    {
     "data": {
      "text/plain": [
       "dict_keys(['train', 'valid', 'test'])"
      ]
     },
     "execution_count": 13,
     "metadata": {},
     "output_type": "execute_result"
    }
   ],
   "source": [
    "split.keys()\n"
   ]
  },
  {
   "cell_type": "code",
   "execution_count": null,
   "id": "5611e7b2-c59a-466b-ba23-1a93b3d79c76",
   "metadata": {},
   "outputs": [],
   "source": []
  }
 ],
 "metadata": {
  "kernelspec": {
   "display_name": "Python 3 (ipykernel)",
   "language": "python",
   "name": "python3"
  },
  "language_info": {
   "codemirror_mode": {
    "name": "ipython",
    "version": 3
   },
   "file_extension": ".py",
   "mimetype": "text/x-python",
   "name": "python",
   "nbconvert_exporter": "python",
   "pygments_lexer": "ipython3",
   "version": "3.9.21"
  }
 },
 "nbformat": 4,
 "nbformat_minor": 5
}
