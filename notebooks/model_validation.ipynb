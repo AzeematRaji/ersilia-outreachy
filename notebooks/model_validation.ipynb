{
 "cells": [
  {
   "cell_type": "markdown",
   "id": "fa649b35-ee64-400b-a18f-6591278fadef",
   "metadata": {},
   "source": [
    "#### Extra Model validation\n",
    "\n",
    "#### steps\n",
    "- use Morgan counts fingerprints for featurisaton\n",
    "- test other ML architectures using the fingerprints descriptors\n",
    "- compare performance with xgboost model, random forest model and svm\n",
    "- apply models to public dataset"
   ]
  },
  {
   "cell_type": "code",
   "execution_count": 1,
   "id": "7ca0b427-260a-4bf3-ad32-6a5f54464dd2",
   "metadata": {},
   "outputs": [
    {
     "name": "stdout",
     "output_type": "stream",
     "text": [
      "The history saving thread hit an unexpected error (OperationalError('attempt to write a readonly database')).History will not be written to the database.\n",
      "   dim_0000  dim_0001  dim_0002  dim_0003  dim_0004  dim_0005  dim_0006  \\\n",
      "0         0         1         0         0         0         0         0   \n",
      "1         0         0         0         0         0         0         0   \n",
      "2         0         0         0         0         0         0         0   \n",
      "3         0         0         0         0         0         0         0   \n",
      "4         0         0         0         0         0         1         0   \n",
      "\n",
      "   dim_0007  dim_0008  dim_0009  ...  dim_2039  dim_2040  dim_2041  dim_2042  \\\n",
      "0         0         0         0  ...         0         0         0         0   \n",
      "1         0         0         0  ...         0         0         0         0   \n",
      "2         0         0         0  ...         0         0         0         0   \n",
      "3         0         0         0  ...         0         0         0         0   \n",
      "4         0         0         0  ...         0         0         0         0   \n",
      "\n",
      "   dim_2043  dim_2044  dim_2045  dim_2046  dim_2047  Y  \n",
      "0         0         0         0         0         0  0  \n",
      "1         0         0         0         0         0  0  \n",
      "2         0         0         0         0         0  0  \n",
      "3         0         0         0         0         0  0  \n",
      "4         0         0         0         0         0  0  \n",
      "\n",
      "[5 rows x 2049 columns]\n"
     ]
    }
   ],
   "source": [
    "import pandas as pd\n",
    "\n",
    "df = pd.read_csv(\"../data/merged_ft_bioavailability_2.csv\") \n",
    "print(df.head())  \n"
   ]
  },
  {
   "cell_type": "code",
   "execution_count": 2,
   "id": "e9918878-bafc-4331-9ea5-05e24d53bfa8",
   "metadata": {},
   "outputs": [],
   "source": [
    "x = df.drop(columns=[\"Y\"])\n",
    "y = df[\"Y\"]"
   ]
  },
  {
   "cell_type": "code",
   "execution_count": 3,
   "id": "9dc4551b-d7b2-43ec-addc-26157fd788c4",
   "metadata": {},
   "outputs": [],
   "source": [
    "from sklearn.model_selection import train_test_split\n",
    "\n",
    "x_train, x_test, y_train, y_test = train_test_split(\n",
    "    x, y, test_size=0.2, random_state=42, stratify=y\n",
    ")"
   ]
  },
  {
   "cell_type": "code",
   "execution_count": 5,
   "id": "321d13d7-e661-4c68-8f8e-858f6e15018c",
   "metadata": {},
   "outputs": [],
   "source": [
    "from sklearn.ensemble import RandomForestClassifier\n",
    "from sklearn.svm import SVC\n",
    "from sklearn.metrics import accuracy_score, precision_score, recall_score, f1_score, roc_auc_score\n",
    "import joblib\n",
    "\n",
    "rf_model = RandomForestClassifier(n_estimators=100, random_state=42)\n",
    "\n",
    "rf_model.fit(x_train, y_train)\n",
    "\n",
    "joblib.dump(rf_model, \"../models/random_forest_bioavailability.pkl\")\n",
    "\n",
    "y_pred_rf = rf_model.predict(x_test)\n",
    "y_pred_rf_prob = rf_model.predict_proba(x_test)[:, 1] \n"
   ]
  },
  {
   "cell_type": "code",
   "execution_count": 6,
   "id": "d1cd770a-1cd9-4c8c-afe8-bc8b90ceb3e8",
   "metadata": {},
   "outputs": [],
   "source": [
    "svm_model = SVC(probability=True, kernel='rbf', random_state=42)\n",
    "\n",
    "svm_model.fit(x_train, y_train)\n",
    "\n",
    "joblib.dump(svm_model, \"../models/svm_bioavailability.pkl\")\n",
    "\n",
    "y_pred_svm = svm_model.predict(x_test)\n",
    "y_pred_svm_prob = svm_model.predict_proba(x_test)[:, 1]  \n"
   ]
  },
  {
   "cell_type": "code",
   "execution_count": 7,
   "id": "af5d95ef-dd1d-47b2-9547-ad765e5558e7",
   "metadata": {},
   "outputs": [
    {
     "name": "stdout",
     "output_type": "stream",
     "text": [
      "\n",
      " Random Forest Performance:\n",
      "Accuracy: 0.7891\n",
      "Precision: 0.7934\n",
      "Recall: 0.9796\n",
      "F1 Score: 0.8767\n",
      "AUC Score: 0.7162\n",
      "\n",
      " SVM Performance:\n",
      "Accuracy: 0.7734\n",
      "Precision: 0.7805\n",
      "Recall: 0.9796\n",
      "F1 Score: 0.8688\n",
      "AUC Score: 0.7378\n"
     ]
    }
   ],
   "source": [
    "def evaluate_model(y_test, y_pred, y_pred_prob, model_name):\n",
    "    accuracy = accuracy_score(y_test, y_pred)\n",
    "    precision = precision_score(y_test, y_pred)\n",
    "    recall = recall_score(y_test, y_pred)\n",
    "    f1 = f1_score(y_test, y_pred)\n",
    "    auc = roc_auc_score(y_test, y_pred_prob)\n",
    "\n",
    "    print(f\"\\n {model_name} Performance:\")\n",
    "    print(f\"Accuracy: {accuracy:.4f}\")\n",
    "    print(f\"Precision: {precision:.4f}\")\n",
    "    print(f\"Recall: {recall:.4f}\")\n",
    "    print(f\"F1 Score: {f1:.4f}\")\n",
    "    print(f\"AUC Score: {auc:.4f}\")\n",
    "\n",
    "evaluate_model(y_test, y_pred_rf, y_pred_rf_prob, \"Random Forest\")\n",
    "\n",
    "\n",
    "evaluate_model(y_test, y_pred_svm, y_pred_svm_prob, \"SVM\")\n"
   ]
  },
  {
   "cell_type": "code",
   "execution_count": 10,
   "id": "d5d33cb5-b29e-4e17-a0a2-e4c113d99b1f",
   "metadata": {},
   "outputs": [
    {
     "data": {
      "image/png": "[encoded data removed]",
      "text/plain": [
       "<Figure size 600x500 with 2 Axes>"
      ]
     },
     "metadata": {},
     "output_type": "display_data"
    },
    {
     "data": {
      "image/png": "[encoded data removed]",
      "text/plain": [
       "<Figure size 600x500 with 2 Axes>"
      ]
     },
     "metadata": {},
     "output_type": "display_data"
    }
   ],
   "source": [
    "from sklearn.metrics import confusion_matrix\n",
    "import seaborn as sns\n",
    "import matplotlib.pyplot as plt\n",
    "\n",
    "cm_rf = confusion_matrix(y_test, y_pred_rf)\n",
    "cm_svm = confusion_matrix(y_test, y_pred_svm)\n",
    "\n",
    "def plot_confusion_matrix(cm, model_name):\n",
    "    plt.figure(figsize=(6, 5))\n",
    "    sns.heatmap(cm, annot=True, fmt=\"d\", cmap=\"Blues\", xticklabels=[\"Inactive\", \"Active\"], yticklabels=[\"Inactive\", \"Active\"])\n",
    "    plt.xlabel(\"Predicted Label\")\n",
    "    plt.ylabel(\"True Label\")\n",
    "    plt.title(f\"Confusion Matrix for {model_name}\")\n",
    "    plt.show()\n",
    "\n",
    "\n",
    "plot_confusion_matrix(cm_rf, \"Random Forest\")\n",
    "\n",
    "plot_confusion_matrix(cm_svm, \"SVM\")\n"
   ]
  },
  {
   "cell_type": "code",
   "execution_count": 18,
   "id": "8a50cb81-0a2b-4f55-9910-2add44ff42ac",
   "metadata": {},
   "outputs": [
    {
     "name": "stderr",
     "output_type": "stream",
     "text": [
      "Downloading...\n",
      "100%|██████████████████████████████████████████████████████████████████████████████████████████████████████████████████████████████████████████████████| 40.1k/40.1k [00:00<00:00, 370kiB/s]\n",
      "Loading...\n",
      "Done!\n"
     ]
    }
   ],
   "source": [
    "from tdc.single_pred import ADME\n",
    "data = ADME(name = 'HIA_Hou')"
   ]
  },
  {
   "cell_type": "code",
   "execution_count": 19,
   "id": "4da5210c-cd24-44bf-9697-60ce6c5d3b6b",
   "metadata": {},
   "outputs": [],
   "source": [
    "df = data.get_data()"
   ]
  },
  {
   "cell_type": "code",
   "execution_count": 24,
   "id": "2efa3266-f1da-4d12-98d8-41a65faedde1",
   "metadata": {},
   "outputs": [
    {
     "name": "stdout",
     "output_type": "stream",
     "text": [
      "             Drug_ID                                               Drug  Y\n",
      "0        Acetanilide                                    CC(=O)Nc1ccccc1  1\n",
      "1  Acetazolamide.mol                         CC(=O)Nc1nnc(S(N)(=O)=O)s1  1\n",
      "2       Alfacalcidol  C=C1/C(=C\\C=C2/CCC[C@]3(C)[C@@H]2CC[C@H]3[C@@H...  1\n",
      "3        Aminopyrine                    Cc1c(N(C)C)c(=N)n(-c2ccccc2)n1C  1\n",
      "4     Amosulalol.mol      COc1ccccc1OCCNC[C@@H](O)c1ccc(C)cc1S(N)(=O)=O  1\n"
     ]
    }
   ],
   "source": [
    "df.to_csv(\"../data/hia.csv\", index=False)\n",
    "print(df.head())"
   ]
  },
  {
   "cell_type": "code",
   "execution_count": 21,
   "id": "81d3da3c-8b00-4687-8b2c-922b12f8fc08",
   "metadata": {},
   "outputs": [],
   "source": [
    "ft_df = pd.read_csv(\"../data/featurised_hia.csv\") "
   ]
  },
  {
   "cell_type": "code",
   "execution_count": 23,
   "id": "ddcdc76e-9ffc-4be8-8b3c-e25a2b802838",
   "metadata": {},
   "outputs": [
    {
     "name": "stdout",
     "output_type": "stream",
     "text": [
      "                 key                                              input  \\\n",
      "0        Acetanilide                                    CC(=O)Nc1ccccc1   \n",
      "1  Acetazolamide.mol                         CC(=O)Nc1nnc(S(N)(=O)=O)s1   \n",
      "2       Alfacalcidol  C=C1/C(=C\\C=C2/CCC[C@]3(C)[C@@H]2CC[C@H]3[C@@H...   \n",
      "3        Aminopyrine                    Cc1c(N(C)C)c(=N)n(-c2ccccc2)n1C   \n",
      "4     Amosulalol.mol      COc1ccccc1OCCNC[C@@H](O)c1ccc(C)cc1S(N)(=O)=O   \n",
      "\n",
      "   feature_0000  feature_0001  feature_0002  feature_0003  feature_0004  \\\n",
      "0      0.041826     -0.200014     -0.011648      0.183459      0.046324   \n",
      "1      0.034665      0.034634     -0.217461      0.018387      0.230566   \n",
      "2      0.018515     -0.105053      0.032394     -0.021206     -0.082939   \n",
      "3      0.035669     -0.129451     -0.019397     -0.121652      0.072629   \n",
      "4      0.081152     -0.075124     -0.170408      0.030382      0.076465   \n",
      "\n",
      "   feature_0005  feature_0006  feature_0007  ...  feature_1014  feature_1015  \\\n",
      "0      0.100852     -0.003520      0.033106  ...     -0.008572     -0.006766   \n",
      "1      0.025405      0.118612      0.040695  ...     -0.021421      0.239156   \n",
      "2     -0.056338      0.017435      0.013554  ...      0.002457     -0.018172   \n",
      "3     -0.044308      0.040960      0.116068  ...     -0.097170     -0.017556   \n",
      "4      0.040519      0.072960      0.062303  ...     -0.062879     -0.009960   \n",
      "\n",
      "   feature_1016  feature_1017  feature_1018  feature_1019  feature_1020  \\\n",
      "0     -0.057677     -0.061080     -0.205559     -0.018038      0.004973   \n",
      "1      0.023720     -0.024740     -0.122588     -0.001724     -0.036448   \n",
      "2      0.025742     -0.052247      0.021726      0.052403      0.015684   \n",
      "3     -0.083815      0.043457     -0.042518      0.002324     -0.028352   \n",
      "4     -0.036174     -0.031259     -0.011585      0.040866     -0.050308   \n",
      "\n",
      "   feature_1021  feature_1022  feature_1023  \n",
      "0     -0.083061      0.066294     -0.142328  \n",
      "1     -0.173923     -0.079030     -0.064386  \n",
      "2      0.019150     -0.062193      0.080254  \n",
      "3      0.082835      0.039401      0.034005  \n",
      "4     -0.035822      0.010709      0.062744  \n",
      "\n",
      "[5 rows x 1026 columns]\n"
     ]
    }
   ],
   "source": [
    "print(ft_df.head())"
   ]
  },
  {
   "cell_type": "code",
   "execution_count": 25,
   "id": "68b28ba1-637e-4d5a-a28a-68a4967d90ab",
   "metadata": {},
   "outputs": [],
   "source": [
    "df = pd.read_csv(\"../data/hia.csv\")\n",
    "ft_df = pd.read_csv(\"../data/featurised_hia.csv\")\n",
    "merged_df = ft_df.merge(df[[\"Drug_ID\", \"Y\"]], left_on=\"key\", right_on=\"Drug_ID\")\n",
    "merged_df = merged_df.drop(columns=[\"key\", \"input\", \"Drug_ID\"])\n",
    "merged_df.to_csv(\"../data/merged_ft_bioavailability.csv\", index=False)"
   ]
  },
  {
   "cell_type": "code",
   "execution_count": 26,
   "id": "82480bf9-d98f-4183-9522-f908c9ec6ac0",
   "metadata": {},
   "outputs": [],
   "source": [
    "x = merged_df.drop(columns=[\"Y\"])\n",
    "y = merged_df[\"Y\"]"
   ]
  },
  {
   "cell_type": "code",
   "execution_count": 27,
   "id": "71ed064e-81d6-46be-b8f5-a761db7999ac",
   "metadata": {},
   "outputs": [],
   "source": [
    "from sklearn.model_selection import train_test_split\n",
    "\n",
    "x_train, x_test, y_train, y_test = train_test_split(\n",
    "    x, y, test_size=0.2, random_state=42, stratify=y\n",
    ")"
   ]
  },
  {
   "cell_type": "code",
   "execution_count": 28,
   "id": "a7fc5090-90ed-4a66-bf8c-a382a23d439f",
   "metadata": {},
   "outputs": [],
   "source": [
    "import joblib\n",
    "model = joblib.load(\"../models/bioavailability.pkl\")"
   ]
  },
  {
   "cell_type": "code",
   "execution_count": 33,
   "id": "8438e243-926c-4e5f-a78b-8d636c46ac77",
   "metadata": {},
   "outputs": [],
   "source": [
    "threshold = 0.9\n",
    "y_pred_custom = (y_pred_prob >= threshold).astype(int)"
   ]
  },
  {
   "cell_type": "code",
   "execution_count": 30,
   "id": "ce268dba-b17f-4e37-a6f1-4f0bac8a858e",
   "metadata": {},
   "outputs": [],
   "source": [
    "y_pred_prob = model.predict_proba(x_test)[:, 1]"
   ]
  },
  {
   "cell_type": "code",
   "execution_count": 35,
   "id": "f3a598b8-b89e-4d8f-8bf0-9cbec754e6f6",
   "metadata": {},
   "outputs": [
    {
     "name": "stdout",
     "output_type": "stream",
     "text": [
      "Accuracy: 0.8103\n",
      "Precision: 0.8980\n",
      "Recall: 0.8800\n",
      "F1 Score: 0.8889\n",
      "AUC Score: 0.7975\n"
     ]
    }
   ],
   "source": [
    "accuracy = accuracy_score(y_test, y_pred_custom)\n",
    "precision = precision_score(y_test, y_pred_custom)\n",
    "recall = recall_score(y_test, y_pred_custom)\n",
    "f1 = f1_score(y_test, y_pred_custom)\n",
    "auc = roc_auc_score(y_test, y_pred_prob)\n",
    "\n",
    "print(f\"Accuracy: {accuracy:.4f}\")\n",
    "print(f\"Precision: {precision:.4f}\")\n",
    "print(f\"Recall: {recall:.4f}\")\n",
    "print(f\"F1 Score: {f1:.4f}\")\n",
    "print(f\"AUC Score: {auc:.4f}\")"
   ]
  },
  {
   "cell_type": "code",
   "execution_count": 36,
   "id": "e0556676-2307-4af4-b2d6-cfa35d3ea851",
   "metadata": {},
   "outputs": [
    {
     "data": {
      "image/png": "[encoded data removed]",
      "text/plain": [
       "<Figure size 600x400 with 2 Axes>"
      ]
     },
     "metadata": {},
     "output_type": "display_data"
    }
   ],
   "source": [
    "import matplotlib.pyplot as plt\n",
    "import seaborn as sns\n",
    "from sklearn.metrics import confusion_matrix\n",
    "\n",
    "cm = confusion_matrix(y_test, y_pred_custom)\n",
    "\n",
    "plt.figure(figsize=(6, 4))\n",
    "sns.heatmap(cm, annot=True, fmt=\"d\", cmap=\"Blues\", xticklabels=[\"Predicted 0\", \"Predicted 1\"], yticklabels=[\"Actual 0\", \"Actual 1\"])\n",
    "plt.title(\"Confusion Matrix\")\n",
    "plt.show()"
   ]
  },
  {
   "cell_type": "code",
   "execution_count": 37,
   "id": "7353c6f4-c449-483e-b220-f7a54ab3c9cd",
   "metadata": {},
   "outputs": [],
   "source": [
    "ft_df = pd.read_csv(\"../data/mc_featurised_hia.csv\") "
   ]
  },
  {
   "cell_type": "code",
   "execution_count": 38,
   "id": "d8a5108b-e3b8-4903-b3ae-bcd386c508eb",
   "metadata": {},
   "outputs": [
    {
     "name": "stdout",
     "output_type": "stream",
     "text": [
      "                 key                                              input  \\\n",
      "0        Acetanilide                                    CC(=O)Nc1ccccc1   \n",
      "1  Acetazolamide.mol                         CC(=O)Nc1nnc(S(N)(=O)=O)s1   \n",
      "2       Alfacalcidol  C=C1/C(=C\\C=C2/CCC[C@]3(C)[C@@H]2CC[C@H]3[C@@H...   \n",
      "3        Aminopyrine                    Cc1c(N(C)C)c(=N)n(-c2ccccc2)n1C   \n",
      "4     Amosulalol.mol      COc1ccccc1OCCNC[C@@H](O)c1ccc(C)cc1S(N)(=O)=O   \n",
      "\n",
      "   dim_0000  dim_0001  dim_0002  dim_0003  dim_0004  dim_0005  dim_0006  \\\n",
      "0         0         0         0         0         0         0         0   \n",
      "1         0         0         0         0         0         0         0   \n",
      "2         0         2         0         0         0         0         0   \n",
      "3         0         0         0         0         0         0         0   \n",
      "4         0         1         0         0         0         0         0   \n",
      "\n",
      "   dim_0007  ...  dim_2038  dim_2039  dim_2040  dim_2041  dim_2042  dim_2043  \\\n",
      "0         0  ...         0         0         0         0         0         0   \n",
      "1         0  ...         0         0         0         0         0         0   \n",
      "2         0  ...         0         0         0         0         0         0   \n",
      "3         0  ...         0         0         0         0         0         0   \n",
      "4         0  ...         0         0         0         0         0         0   \n",
      "\n",
      "   dim_2044  dim_2045  dim_2046  dim_2047  \n",
      "0         0         0         0         0  \n",
      "1         0         0         0         0  \n",
      "2         0         0         0         0  \n",
      "3         0         0         0         0  \n",
      "4         0         0         0         0  \n",
      "\n",
      "[5 rows x 2050 columns]\n"
     ]
    }
   ],
   "source": [
    "print(ft_df.head())"
   ]
  },
  {
   "cell_type": "code",
   "execution_count": 39,
   "id": "01f116d2-dddc-4fd2-b36e-7789f8cc8020",
   "metadata": {},
   "outputs": [],
   "source": [
    "df = pd.read_csv(\"../data/hia.csv\")\n",
    "ft_df = pd.read_csv(\"../data/mc_featurised_hia.csv\")\n",
    "merged_df = ft_df.merge(df[[\"Drug_ID\", \"Y\"]], left_on=\"key\", right_on=\"Drug_ID\")\n",
    "merged_df = merged_df.drop(columns=[\"key\", \"input\", \"Drug_ID\"])\n",
    "merged_df.to_csv(\"../data/merged_ft_bioavailability.csv\", index=False)"
   ]
  },
  {
   "cell_type": "code",
   "execution_count": 40,
   "id": "f505db0b-672c-494f-9057-0e36fb198bb1",
   "metadata": {},
   "outputs": [],
   "source": [
    "x = merged_df.drop(columns=[\"Y\"])\n",
    "y = merged_df[\"Y\"]"
   ]
  },
  {
   "cell_type": "code",
   "execution_count": 41,
   "id": "c1921ac9-14b9-4160-b38b-4f18003f169f",
   "metadata": {},
   "outputs": [],
   "source": [
    "from sklearn.model_selection import train_test_split\n",
    "\n",
    "x_train, x_test, y_train, y_test = train_test_split(\n",
    "    x, y, test_size=0.2, random_state=42, stratify=y\n",
    ")"
   ]
  },
  {
   "cell_type": "code",
   "execution_count": 42,
   "id": "af37dc06-b70c-498b-a694-7646882a9bed",
   "metadata": {},
   "outputs": [],
   "source": [
    "import joblib\n",
    "model = joblib.load(\"../models/random_forest_bioavailability.pkl\")"
   ]
  },
  {
   "cell_type": "code",
   "execution_count": 43,
   "id": "4a9bc7e5-ecaf-40d2-8195-8c9a9717d986",
   "metadata": {},
   "outputs": [],
   "source": [
    "y_pred_prob = model.predict_proba(x_test)[:, 1]"
   ]
  },
  {
   "cell_type": "code",
   "execution_count": 44,
   "id": "666a890c-416e-4011-b1e1-ada16f768590",
   "metadata": {},
   "outputs": [],
   "source": [
    "threshold = 0.9\n",
    "y_pred_custom = (y_pred_prob >= threshold).astype(int)"
   ]
  },
  {
   "cell_type": "code",
   "execution_count": 45,
   "id": "c5cf5b17-5347-4ea1-9107-88ffb1967630",
   "metadata": {},
   "outputs": [
    {
     "name": "stdout",
     "output_type": "stream",
     "text": [
      "Accuracy: 0.5603\n",
      "Precision: 0.9804\n",
      "Recall: 0.5000\n",
      "F1 Score: 0.6623\n",
      "AUC Score: 0.8228\n"
     ]
    }
   ],
   "source": [
    "accuracy = accuracy_score(y_test, y_pred_custom)\n",
    "precision = precision_score(y_test, y_pred_custom)\n",
    "recall = recall_score(y_test, y_pred_custom)\n",
    "f1 = f1_score(y_test, y_pred_custom)\n",
    "auc = roc_auc_score(y_test, y_pred_prob)\n",
    "\n",
    "print(f\"Accuracy: {accuracy:.4f}\")\n",
    "print(f\"Precision: {precision:.4f}\")\n",
    "print(f\"Recall: {recall:.4f}\")\n",
    "print(f\"F1 Score: {f1:.4f}\")\n",
    "print(f\"AUC Score: {auc:.4f}\")"
   ]
  },
  {
   "cell_type": "code",
   "execution_count": 46,
   "id": "821a9513-ca07-41ba-855c-c47225575a54",
   "metadata": {},
   "outputs": [
    {
     "data": {
      "image/png": "[encoded data removed]",
      "text/plain": [
       "<Figure size 600x400 with 2 Axes>"
      ]
     },
     "metadata": {},
     "output_type": "display_data"
    }
   ],
   "source": [
    "import matplotlib.pyplot as plt\n",
    "import seaborn as sns\n",
    "from sklearn.metrics import confusion_matrix\n",
    "\n",
    "cm = confusion_matrix(y_test, y_pred_custom)\n",
    "\n",
    "plt.figure(figsize=(6, 4))\n",
    "sns.heatmap(cm, annot=True, fmt=\"d\", cmap=\"Blues\", xticklabels=[\"Predicted 0\", \"Predicted 1\"], yticklabels=[\"Actual 0\", \"Actual 1\"])\n",
    "plt.title(\"Confusion Matrix\")\n",
    "plt.show()"
   ]
  },
  {
   "cell_type": "code",
   "execution_count": 47,
   "id": "8dd00b51-af21-4a17-acf3-436d28ae6c2e",
   "metadata": {},
   "outputs": [],
   "source": [
    "import joblib\n",
    "model = joblib.load(\"../models/svm_bioavailability.pkl\")"
   ]
  },
  {
   "cell_type": "code",
   "execution_count": 48,
   "id": "96ca6da3-9d9f-469d-a347-aa6896c477d4",
   "metadata": {},
   "outputs": [],
   "source": [
    "y_pred_prob = model.predict_proba(x_test)[:, 1]\n",
    "threshold = 0.9\n",
    "y_pred_custom = (y_pred_prob >= threshold).astype(int)"
   ]
  },
  {
   "cell_type": "code",
   "execution_count": 49,
   "id": "99585cb0-f009-481f-8a7c-6d7a37564a06",
   "metadata": {},
   "outputs": [
    {
     "name": "stdout",
     "output_type": "stream",
     "text": [
      "Accuracy: 0.1552\n",
      "Precision: 1.0000\n",
      "Recall: 0.0200\n",
      "F1 Score: 0.0392\n",
      "AUC Score: 0.8688\n"
     ]
    }
   ],
   "source": [
    "accuracy = accuracy_score(y_test, y_pred_custom)\n",
    "precision = precision_score(y_test, y_pred_custom)\n",
    "recall = recall_score(y_test, y_pred_custom)\n",
    "f1 = f1_score(y_test, y_pred_custom)\n",
    "auc = roc_auc_score(y_test, y_pred_prob)\n",
    "\n",
    "print(f\"Accuracy: {accuracy:.4f}\")\n",
    "print(f\"Precision: {precision:.4f}\")\n",
    "print(f\"Recall: {recall:.4f}\")\n",
    "print(f\"F1 Score: {f1:.4f}\")\n",
    "print(f\"AUC Score: {auc:.4f}\")"
   ]
  },
  {
   "cell_type": "code",
   "execution_count": 50,
   "id": "4c1df3fa-a1a8-424f-b8b1-309c1c964cd5",
   "metadata": {},
   "outputs": [
    {
     "data": {
      "image/png": "[encoded data removed]",
      "text/plain": [
       "<Figure size 600x400 with 2 Axes>"
      ]
     },
     "metadata": {},
     "output_type": "display_data"
    }
   ],
   "source": [
    "import matplotlib.pyplot as plt\n",
    "import seaborn as sns\n",
    "from sklearn.metrics import confusion_matrix\n",
    "\n",
    "cm = confusion_matrix(y_test, y_pred_custom)\n",
    "\n",
    "plt.figure(figsize=(6, 4))\n",
    "sns.heatmap(cm, annot=True, fmt=\"d\", cmap=\"Blues\", xticklabels=[\"Predicted 0\", \"Predicted 1\"], yticklabels=[\"Actual 0\", \"Actual 1\"])\n",
    "plt.title(\"Confusion Matrix\")\n",
    "plt.show()"
   ]
  },
  {
   "cell_type": "code",
   "execution_count": null,
   "id": "d114a0d5-fa88-427e-838b-ce15ce8bffb8",
   "metadata": {},
   "outputs": [],
   "source": []
  }
 ],
 "metadata": {
  "kernelspec": {
   "display_name": "Python 3 (ipykernel)",
   "language": "python",
   "name": "python3"
  },
  "language_info": {
   "codemirror_mode": {
    "name": "ipython",
    "version": 3
   },
   "file_extension": ".py",
   "mimetype": "text/x-python",
   "name": "python",
   "nbconvert_exporter": "python",
   "pygments_lexer": "ipython3",
   "version": "3.12.9"
  }
 },
 "nbformat": 4,
 "nbformat_minor": 5
}
